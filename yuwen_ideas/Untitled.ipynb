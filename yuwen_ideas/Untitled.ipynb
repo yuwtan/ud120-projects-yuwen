{
 "cells": [
  {
   "cell_type": "markdown",
   "metadata": {},
   "source": [
    "# Project 5: Identify Fraud from Enron Email"
   ]
  },
  {
   "cell_type": "markdown",
   "metadata": {},
   "source": [
    "### 1. Data Exploration"
   ]
  },
  {
   "cell_type": "markdown",
   "metadata": {},
   "source": [
    "Before we move to feature selection, I took a look at the data to identify outliers that we should get rid of. I found a record with much larger *salary* and *bonus* values than other records. It turns out that this record belongs to \"TOTAL\", which is the sum of all individual records and we should ignore in our study. This record of \"TOTAL\" is removed. In addition, I also noticed a person with *shared_receipt_with_poi* larger than *to_messages* of him by 1. I considered this as a small data issue and decided to make *shared_receipt_with_poi* equal to *to_messages*."
   ]
  },
  {
   "cell_type": "code",
   "execution_count": 41,
   "metadata": {
    "collapsed": false
   },
   "outputs": [
    {
     "name": "stdout",
     "output_type": "stream",
     "text": [
      "Person with strange email information:  GLISAN JR BEN F\n",
      "shared_receipt_with_poi is:  874.0\n",
      "to_messages is:  873.0\n"
     ]
    },
    {
     "data": {
      "image/png": "[encoded data removed]",
      "text/plain": [
       "<matplotlib.figure.Figure at 0x11262a790>"
      ]
     },
     "metadata": {},
     "output_type": "display_data"
    },
    {
     "name": "stdout",
     "output_type": "stream",
     "text": [
      "Person with salary higher than 10 million: \tTOTAL\n"
     ]
    }
   ],
   "source": [
    "import sys\n",
    "import pickle\n",
    "import math\n",
    "from matplotlib import pyplot\n",
    "%matplotlib inline\n",
    "import warnings\n",
    "warnings.filterwarnings('ignore')\n",
    "from sklearn import preprocessing\n",
    "\n",
    "sys.path.append(\"../tools/\")\n",
    "from feature_format import featureFormat, targetFeatureSplit\n",
    "from tester import dump_classifier_and_data\n",
    "\n",
    "\n",
    "with open(\"final_project_dataset.pkl\", \"r\") as data_file:\n",
    "    data_dict = pickle.load(data_file)\n",
    "\n",
    "\"\"\" scatterplot salary and bonus \"\"\"\n",
    "for person in data_dict:\n",
    "    # read person's information\n",
    "    data_point = data_dict[person]\n",
    "    salary = float(data_point['salary'])\n",
    "    bonus = float(data_point['bonus'])\n",
    "    shared_receipt_with_poi = float(data_point['shared_receipt_with_poi'])\n",
    "    to_messages = float(data_point['to_messages'])\n",
    "    \n",
    "    # find people with strange email data\n",
    "    if shared_receipt_with_poi > to_messages:\n",
    "        print \"Person with strange email information: \", person\n",
    "        print \"shared_receipt_with_poi is: \", shared_receipt_with_poi\n",
    "        print \"to_messages is: \", to_messages\n",
    "\n",
    "    # scatterlpot salary and bonus\n",
    "    pyplot.scatter( salary, bonus )\n",
    "\n",
    "pyplot.xlabel(\"salary\")\n",
    "pyplot.ylabel(\"bonus\")\n",
    "pyplot.show()\n",
    "\n",
    "\"\"\" find out the outlier \"\"\"\n",
    "for person in data_dict:\n",
    "    data_point = data_dict[person]\n",
    "    if float(data_point['salary']) > 10000000:\n",
    "        print \"Person with salary higher than 10 million: \\t\",person\n",
    "\n",
    "\"\"\" remove the outlier \"\"\" \n",
    "data_dict.pop( 'TOTAL', 0 );\n",
    "\n",
    "\"\"\" correct email data \"\"\"\n",
    "data_dict['GLISAN JR BEN F']['shared_receipt_with_poi'] = data_dict['GLISAN JR BEN F']['to_messages']"
   ]
  },
  {
   "cell_type": "markdown",
   "metadata": {},
   "source": [
    "### 2. Feature Selection"
   ]
  },
  {
   "cell_type": "markdown",
   "metadata": {},
   "source": [
    "Based on the features we have in the dataset, I go ahead and create several new features as listed below:\n",
    "* ratio of emails sent from poi to this person compared to total emails sent to this person (*ratio_from_poi_to_this_person*): *from_poi_to_this_person* / *to_messages*\n",
    "* ratio of emails sent to poi from this person compared to total emails sent from this person (*ratio_from_this_person_to_poi*): *from_this_person_to_poi* / *from_messages*\n",
    "* ratio of emails that this person shared with poi as recipients compared to total emails sent to this person (*ratio_shared_receipt_with_poi*): *shared_receipt_with_poi* / *to_messages*\n",
    "* ratio of total stock value to total payments (*ratio_stock_to_payments*): *total_stock_value* / *total_payments*\n",
    "\n",
    "Firstly, I created the first three ratios because they are are more meaningful than the absolute number of emails sent to or received from POIs. Secondly, I created the fourth ratio because POIs may have higher stock-to-payment ratio than non-POIs since this ratio is comparable between employees with higher payments and those with lower payments."
   ]
  },
  {
   "cell_type": "code",
   "execution_count": 42,
   "metadata": {
    "collapsed": false,
    "scrolled": true
   },
   "outputs": [],
   "source": [
    "for person in data_dict:\n",
    "    \n",
    "    # read dataset information\n",
    "    data_point = data_dict[person]\n",
    "    \n",
    "    from_poi_to_this_person = float(data_point['from_poi_to_this_person'])\n",
    "    shared_receipt_with_poi = float(data_point['shared_receipt_with_poi'])\n",
    "    to_messages = float(data_point['to_messages'])\n",
    "    \n",
    "    from_this_person_to_poi = float(data_point['from_this_person_to_poi'])\n",
    "    from_messages = float(data_point['from_messages'])\n",
    "    \n",
    "    total_stock_value = float(data_point['total_stock_value'])\n",
    "    total_payments = float(data_point['total_payments'])\n",
    "\n",
    "    # create new features\n",
    "    if math.isnan(from_poi_to_this_person) or math.isnan(to_messages) or to_messages == 0:\n",
    "        ratio_from_poi_to_this_person = 0\n",
    "    else:\n",
    "        ratio_from_poi_to_this_person = from_poi_to_this_person / to_messages\n",
    "    \n",
    "    if math.isnan(from_this_person_to_poi) or math.isnan(from_messages) or from_messages == 0:\n",
    "        ratio_from_this_person_to_poi = 0\n",
    "    else:\n",
    "        ratio_from_this_person_to_poi = from_this_person_to_poi / from_messages\n",
    "    \n",
    "    if math.isnan(shared_receipt_with_poi) or math.isnan(to_messages) or to_messages == 0:\n",
    "        ratio_shared_receipt_with_poi = 0\n",
    "    else:\n",
    "        ratio_shared_receipt_with_poi = shared_receipt_with_poi / to_messages\n",
    "    \n",
    "    if math.isnan(total_stock_value) or math.isnan(total_payments) or total_payments == 0:\n",
    "        ratio_stock_to_payments = 0\n",
    "    else:\n",
    "        ratio_stock_to_payments = total_stock_value / total_payments\n",
    "    \n",
    "    # save new features\n",
    "    data_point['ratio_from_poi_to_this_person'] = ratio_from_poi_to_this_person\n",
    "    data_point['ratio_from_this_person_to_poi'] = ratio_from_this_person_to_poi\n",
    "    data_point['ratio_shared_receipt_with_poi'] = ratio_shared_receipt_with_poi\n",
    "    data_point['ratio_stock_to_payments'] = ratio_stock_to_payments"
   ]
  },
  {
   "cell_type": "markdown",
   "metadata": {
    "collapsed": true
   },
   "source": [
    "Before we move to the the next step, I noticed that many people do not have email information. I decided to save \n",
    "would only keep several features from all original and derived features for our study. The reason for doing so is that we don't want to overfit the model and avoid the complexity of choosing from similar features. The features I keep are salary, bonus, total_stock_value, ratio_from_poi, ratio_to_poi, and ratio_shared_with_poi. These features are scaled by the Min/Max Scaler in Sklearn."
   ]
  },
  {
   "cell_type": "code",
   "execution_count": null,
   "metadata": {
    "collapsed": false
   },
   "outputs": [],
   "source": [
    "for person in data_dict:\n",
    "    data_point = data_dict[person]\n",
    "    if math.isnan(float(data_point['to_messages'])) and math.isnan(float(data_point['from_messages'])):\n",
    "        data_point['to_messages'] = '-1'\n",
    "        data_point['from_messages'] = '-1'\n",
    "\n",
    "features_list = ['poi',\n",
    "                 'salary', 'deferral_payments', \n",
    "                 'total_payments', 'loan_advances',\n",
    "                 'bonus', 'restricted_stock_deferred',\n",
    "                 'deferred_income', 'total_stock_value',\n",
    "                 'expenses', 'exercised_stock_options',\n",
    "                 'other', 'long_term_incentive',\n",
    "                 'restricted_stock', 'director_fees',\n",
    "                 'to_messages', 'from_poi_to_this_person',\n",
    "                 'from_messages', 'from_this_person_to_poi',\n",
    "                 'shared_receipt_with_poi',\n",
    "                 'ratio_from_poi_to_this_person', 'ratio_from_this_person_to_poi',\n",
    "                 'ratio_shared_receipt_with_poi', 'ratio_stock_to_payments'\n",
    "                ]\n",
    "data = featureFormat(data_dict, features_list, sort_keys = True)\n",
    "labels, features = targetFeatureSplit(data)\n",
    "from sklearn.ensemble import RandomForestClassifier\n",
    "forest = RandomForestClassifier(n_estimators=1000, random_state=0, n_jobs=-1)\n",
    "forest.fit(features, labels)\n",
    "importances = forest.feature_importances_\n",
    "for f in range(len(features[0])):\n",
    "    print(\"%s) %f\" % (features_list[f+1], importances[f]))"
   ]
  },
  {
   "cell_type": "markdown",
   "metadata": {},
   "source": [
    "### 3. Algorithm Selection"
   ]
  },
  {
   "cell_type": "code",
   "execution_count": 49,
   "metadata": {
    "collapsed": false
   },
   "outputs": [
    {
     "name": "stdout",
     "output_type": "stream",
     "text": [
      "145\n"
     ]
    }
   ],
   "source": [
    "print len(features)"
   ]
  },
  {
   "cell_type": "code",
   "execution_count": 76,
   "metadata": {
    "collapsed": false
   },
   "outputs": [
    {
     "name": "stdout",
     "output_type": "stream",
     "text": [
      "Naive Bayes:\n",
      "             precision    recall  f1-score   support\n",
      "\n",
      "        0.0       0.90      0.97      0.94        39\n",
      "        1.0       0.50      0.20      0.29         5\n",
      "\n",
      "avg / total       0.86      0.89      0.86        44\n",
      "\n",
      "SVM:\n",
      "             precision    recall  f1-score   support\n",
      "\n",
      "        0.0       0.91      1.00      0.95        39\n",
      "        1.0       1.00      0.20      0.33         5\n",
      "\n",
      "avg / total       0.92      0.91      0.88        44\n",
      "\n",
      "Decision Tree:\n",
      "             precision    recall  f1-score   support\n",
      "\n",
      "        0.0       0.90      0.95      0.92        39\n",
      "        1.0       0.33      0.20      0.25         5\n",
      "\n",
      "avg / total       0.84      0.86      0.85        44\n",
      "\n"
     ]
    }
   ],
   "source": [
    "from sklearn.decomposition import RandomizedPCA\n",
    "\n",
    "from sklearn import metrics\n",
    "from sklearn.cross_validation import train_test_split\n",
    "features_train, features_test, labels_train, labels_test = \\\n",
    "    train_test_split(features, labels, test_size=0.3, random_state=42)\n",
    "\n",
    "pca = RandomizedPCA(n_components=3, whiten=True).fit(features_train)\n",
    "features_train = pca.transform(features_train)\n",
    "features_test = pca.transform(features_test)\n",
    "    \n",
    "from sklearn.naive_bayes import GaussianNB\n",
    "clf_nb = GaussianNB()\n",
    "labels_nb = clf_nb.fit(features_train, labels_train).predict(features_test)\n",
    "print('Naive Bayes:')\n",
    "print(metrics.classification_report( labels_test, labels_nb ))\n",
    "\n",
    "from sklearn import svm\n",
    "clf_svm = svm.SVC(kernel=\"rbf\", C=10)\n",
    "labels_svm = clf_svm.fit(features_train, labels_train).predict(features_test)\n",
    "print('SVM:')\n",
    "print(metrics.classification_report( labels_test, labels_svm ))\n",
    "\n",
    "from sklearn import tree\n",
    "clf_tree = tree.DecisionTreeClassifier(min_samples_split=10)\n",
    "labels_tree = clf_tree.fit(features_train, labels_train).predict(features_test)\n",
    "print('Decision Tree:')\n",
    "print(metrics.classification_report( labels_test, labels_tree ))"
   ]
  },
  {
   "cell_type": "markdown",
   "metadata": {},
   "source": [
    "### 4. Algorithm Tuning"
   ]
  },
  {
   "cell_type": "markdown",
   "metadata": {},
   "source": [
    "### 5. Model Validation"
   ]
  },
  {
   "cell_type": "markdown",
   "metadata": {},
   "source": [
    "### 6. Model Evaluation"
   ]
  },
  {
   "cell_type": "code",
   "execution_count": 6,
   "metadata": {
    "collapsed": false
   },
   "outputs": [
    {
     "name": "stdout",
     "output_type": "stream",
     "text": [
      "146\n",
      "salary 339288\n",
      "to_messages 7259\n",
      "deferral_payments NaN\n",
      "total_payments 10425757\n",
      "exercised_stock_options 4158995\n",
      "bonus 8000000\n",
      "restricted_stock 1008149\n",
      "shared_receipt_with_poi 3962\n",
      "restricted_stock_deferred NaN\n",
      "total_stock_value 5167144\n",
      "expenses 49537\n",
      "loan_advances NaN\n",
      "from_messages 2585\n",
      "other 1552\n",
      "from_this_person_to_poi 411\n",
      "poi False\n",
      "director_fees NaN\n",
      "deferred_income NaN\n",
      "long_term_incentive 2035380\n",
      "email_address john.lavorato@enron.com\n",
      "from_poi_to_this_person 528\n"
     ]
    },
    {
     "data": {
      "image/png": "[encoded data removed]",
      "text/plain": [
       "<matplotlib.figure.Figure at 0x103a95590>"
      ]
     },
     "metadata": {},
     "output_type": "display_data"
    },
    {
     "name": "stdout",
     "output_type": "stream",
     "text": [
      "142\n",
      "144\n"
     ]
    }
   ],
   "source": [
    "#!/usr/bin/python\n",
    "\n",
    "import sys\n",
    "import pickle\n",
    "sys.path.append(\"../tools/\")\n",
    "\n",
    "from feature_format import featureFormat, targetFeatureSplit\n",
    "from tester import dump_classifier_and_data\n",
    "from matplotlib import pyplot\n",
    "\n",
    "### Task 1: Select what features you'll use.\n",
    "### features_list is a list of strings, each of which is a feature name.\n",
    "### The first feature must be \"poi\".\n",
    "features_list = ['poi','salary', 'bonus',\n",
    "                 'total_payments', 'total_stock_value',\n",
    "                 'to_messages', 'from_this_person_to_poi',\n",
    "                 'from_messages', 'from_poi_to_this_person',\n",
    "                 'shared_receipt_with_poi']\n",
    "\n",
    "### Load the dictionary containing the dataset\n",
    "with open(\"final_project_dataset.pkl\", \"r\") as data_file:\n",
    "    data_dict = pickle.load(data_file)\n",
    "\n",
    "print len(data_dict)\n",
    "### Task 2: Remove outliers\n",
    "\n",
    "for s in data_dict['LAVORATO JOHN J']:\n",
    "    print s, data_dict['LAVORATO JOHN J'][s]\n",
    "### Task 3: Create new feature(s)\n",
    "### Store to my_dataset for easy export below.\n",
    "my_dataset = data_dict\n",
    "\n",
    "if 'TOTAL' in my_dataset:\n",
    "    del my_dataset['TOTAL']\n",
    "if 'LAY KENNETH L' in my_dataset:\n",
    "    del my_dataset['LAY KENNETH L']\n",
    "\n",
    "\n",
    "person_list = []\n",
    "for s in my_dataset:\n",
    "    person_list.append(s)\n",
    "person_list.sort()\n",
    "### Extract features and labels from dataset for local testing\n",
    "\n",
    "data = featureFormat(my_dataset, features_list, sort_keys = True)\n",
    "labels, features = targetFeatureSplit(data)\n",
    "\n",
    "%matplotlib inline\n",
    "for point in data:\n",
    "    total_payments = point[3]\n",
    "    total_stock = point[4]\n",
    "    pyplot.scatter( total_payments, total_stock )\n",
    "pyplot.xlabel(\"total_payments\")\n",
    "pyplot.ylabel(\"total_stock\")\n",
    "pyplot.show()\n",
    "\n",
    "print len(data)\n",
    "print len(person_list)\n",
    "\n",
    "\n",
    "### Task 4: Try a varity of classifiers\n",
    "### Please name your classifier clf for easy export below.\n",
    "### Note that if you want to do PCA or other multi-stage operations,\n",
    "### you'll need to use Pipelines. For more info:\n",
    "### http://scikit-learn.org/stable/modules/pipeline.html\n",
    "\n",
    "# Provided to give you a starting point. Try a variety of classifiers.\n",
    "from sklearn.naive_bayes import GaussianNB\n",
    "clf = GaussianNB()\n",
    "\n",
    "### Task 5: Tune your classifier to achieve better than .3 precision and recall \n",
    "### using our testing script. Check the tester.py script in the final project\n",
    "### folder for details on the evaluation method, especially the test_classifier\n",
    "### function. Because of the small size of the dataset, the script uses\n",
    "### stratified shuffle split cross validation. For more info: \n",
    "### http://scikit-learn.org/stable/modules/generated/sklearn.cross_validation.StratifiedShuffleSplit.html\n",
    "\n",
    "# Example starting point. Try investigating other evaluation techniques!\n",
    "from sklearn.cross_validation import train_test_split\n",
    "features_train, features_test, labels_train, labels_test = \\\n",
    "    train_test_split(features, labels, test_size=0.3, random_state=42)\n",
    "\n",
    "### Task 6: Dump your classifier, dataset, and features_list so anyone can\n",
    "### check your results. You do not need to change anything below, but make sure\n",
    "### that the version of poi_id.py that you submit can be run on its own and\n",
    "### generates the necessary .pkl files for validating your results.\n",
    "\n",
    "dump_classifier_and_data(clf, my_dataset, features_list)"
   ]
  },
  {
   "cell_type": "code",
   "execution_count": null,
   "metadata": {
    "collapsed": true
   },
   "outputs": [],
   "source": [
    ""
   ]
  },
  {
   "cell_type": "code",
   "execution_count": null,
   "metadata": {
    "collapsed": true
   },
   "outputs": [],
   "source": [
    ""
   ]
  }
 ],
 "metadata": {
  "kernelspec": {
   "display_name": "Python 2",
   "language": "python",
   "name": "python2"
  },
  "language_info": {
   "codemirror_mode": {
    "name": "ipython",
    "version": 2.0
   },
   "file_extension": ".py",
   "mimetype": "text/x-python",
   "name": "python",
   "nbconvert_exporter": "python",
   "pygments_lexer": "ipython2",
   "version": "2.7.12"
  }
 },
 "nbformat": 4,
 "nbformat_minor": 0
}