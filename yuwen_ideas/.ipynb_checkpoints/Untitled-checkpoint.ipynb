{
 "cells": [
  {
   "cell_type": "markdown",
   "metadata": {},
   "source": [
    "# Project 5: Identify Fraud from Enron Email"
   ]
  },
  {
   "cell_type": "markdown",
   "metadata": {},
   "source": [
    "### 1. Data Exploration"
   ]
  },
  {
   "cell_type": "markdown",
   "metadata": {},
   "source": [
    "The goal of this project is to build a model to identify \"Person of Interest\" (POI) among Enron employees based on their financial and emal information. A POI is basically who actually commited fraud actions in the Enron scandal, and we are very interested in these POIs. Our dataset contains 14 financial features (e.g. salary, bonus), 6 email features (e.g. number of message sent/received), and 1 target label which shows if a person is a POI or not. Since we expect POIs might have received more money from the company or communicated with each other, we think we may be able use these features to predict the target label of POI."
   ]
  },
  {
   "cell_type": "markdown",
   "metadata": {},
   "source": [
    "Before we move to feature selection, I take a look at the data to identify outliers that we should get rid of. I find a record with much larger salary and bonus values than other records. It turns out that this record belongs to \"TOTAL\", which is the sum of all individual records and we should ignore in our study. This record of \"TOTAL\" is removed."
   ]
  },
  {
   "cell_type": "code",
   "execution_count": 69,
   "metadata": {
    "collapsed": false
   },
   "outputs": [
    {
     "data": {
      "image/png": "[encoded data removed]",
      "text/plain": [
       "<matplotlib.figure.Figure at 0x1129de610>"
      ]
     },
     "metadata": {},
     "output_type": "display_data"
    },
    {
     "name": "stdout",
     "output_type": "stream",
     "text": [
      "Person with salary higher than 10 million: \tTOTAL\n"
     ]
    }
   ],
   "source": [
    "import sys\n",
    "import pickle\n",
    "import math\n",
    "from matplotlib import pyplot\n",
    "%matplotlib inline\n",
    "import warnings\n",
    "warnings.filterwarnings('ignore')\n",
    "\n",
    "sys.path.append(\"../tools/\")\n",
    "from feature_format import featureFormat, targetFeatureSplit\n",
    "from tester import dump_classifier_and_data\n",
    "\n",
    "\n",
    "with open(\"final_project_dataset.pkl\", \"r\") as data_file:\n",
    "    data_dict = pickle.load(data_file)\n",
    "\n",
    "\"\"\" scatterplot salary and bonus \"\"\"\n",
    "for person in data_dict:\n",
    "    # read salary and bonus information\n",
    "    data_point = data_dict[person]\n",
    "    salary = float(data_point['salary'])\n",
    "    bonus = float(data_point['bonus'])\n",
    "    \n",
    "    # in case of nan values not showing in the plot\n",
    "    if math.isnan(salary):\n",
    "        salary = 0\n",
    "    if math.isnan(bonus):\n",
    "        bonus = 0\n",
    "\n",
    "    pyplot.scatter( salary, bonus )\n",
    "\n",
    "pyplot.xlabel(\"salary\")\n",
    "pyplot.ylabel(\"bonus\")\n",
    "pyplot.show()\n",
    "\n",
    "\"\"\" find out the outlier \"\"\"\n",
    "for person in data_dict:\n",
    "    data_point = data_dict[person]\n",
    "    if float(data_point['salary']) > 10000000:\n",
    "        print \"Person with salary higher than 10 million: \\t\",person\n",
    "\n",
    "\"\"\" remove the outlier \"\"\" \n",
    "data_dict.pop( 'TOTAL', 0 );"
   ]
  },
  {
   "cell_type": "markdown",
   "metadata": {},
   "source": [
    "### 2. Feature Selection"
   ]
  },
  {
   "cell_type": "markdown",
   "metadata": {},
   "source": [
    "Based on the features we have in the dataset, I go ahead and create several new features as listed below:\n",
    "* ratio of emails from poi to total received emails (ratio_from_poi): from_poi_to_this_person / from_messages\n",
    "* ratio of emails to poi to total sent emails (ratio_to_poi): from_this_person_to_poi / to_messages\n",
    "* ratio of bonus to total payments (ratio_bonus): bonus / total_payments\n",
    "\n",
    "I create the first two ratios because they are are more meaningful than the absolute number of emails sent to or received from POIs.  By plotting these new features, we can see that they, especially \"ratio_to_poi\", could help to distinguish POIs and non-POIs."
   ]
  },
  {
   "cell_type": "code",
   "execution_count": 90,
   "metadata": {
    "collapsed": false,
    "scrolled": true
   },
   "outputs": [
    {
     "data": {
      "image/png": "[encoded data removed]",
      "text/plain": [
       "<matplotlib.figure.Figure at 0x112200b10>"
      ]
     },
     "metadata": {},
     "output_type": "display_data"
    },
    {
     "data": {
      "image/png": "[encoded data removed]",
      "text/plain": [
       "<matplotlib.figure.Figure at 0x10f411f90>"
      ]
     },
     "metadata": {},
     "output_type": "display_data"
    }
   ],
   "source": [
    "\"\"\" scatterplot ratio_from_poi and ratio_to_poi \"\"\"\n",
    "for person in data_dict:\n",
    "    # read email information\n",
    "    data_point = data_dict[person]\n",
    "    from_poi_to_this_person = float(data_point['from_poi_to_this_person'])\n",
    "    from_messages = float(data_point['from_messages'])\n",
    "    \n",
    "    from_this_person_to_poi = float(data_point['from_this_person_to_poi'])\n",
    "    to_messages = float(data_point['to_messages'])\n",
    "\n",
    "    # create new features\n",
    "    if math.isnan(from_poi_to_this_person) or math.isnan(from_messages) or from_messages == 0:\n",
    "        ratio_from_poi = 0\n",
    "    else:\n",
    "        ratio_from_poi = from_poi_to_this_person / from_messages\n",
    "    \n",
    "    if math.isnan(from_this_person_to_poi) or math.isnan(to_messages) or to_messages == 0:\n",
    "        ratio_to_poi = 0\n",
    "    else:\n",
    "        ratio_to_poi = from_this_person_to_poi / from_messages\n",
    "    \n",
    "    data_point['ratio_from_poi'] = ratio_from_poi\n",
    "    data_point['ratio_to_poi'] = ratio_to_poi\n",
    "    \n",
    "    # make plot\n",
    "    if data_point['poi'] == 1:\n",
    "        pyplot.scatter( ratio_from_poi, ratio_to_poi, c='r')\n",
    "    else:\n",
    "        pyplot.scatter( ratio_from_poi, ratio_to_poi, c='k')\n",
    "        \n",
    "pyplot.xlabel(\"ratio from poi\")\n",
    "pyplot.ylabel(\"ratio to poi\")\n",
    "pyplot.show()\n",
    "\n",
    "\n",
    "\"\"\" scatterplot total payments and ratio_bonus \"\"\"\n",
    "for person in data_dict:\n",
    "    # read salary and bonus information\n",
    "    data_point = data_dict[person]\n",
    "    bonus = float(data_point['bonus'])\n",
    "    salary = float(data_point['salary'])\n",
    "    if math.isnan(bonus) or math.isnan(salary) or salary == 0:\n",
    "        ratio_bonus_to_salary = 0\n",
    "    else:\n",
    "        ratio_bonus_to_salary = bonus / salary\n",
    "    \n",
    "    # create new features\n",
    "    data_point['ratio_bonus_to_salary'] = ratio_bonus_to_salary\n",
    "    \n",
    "    if data_point['poi'] == 1:\n",
    "        pyplot.scatter( salary, ratio_bonus_to_salary, c='r')\n",
    "    else:\n",
    "        pyplot.scatter( salary, ratio_bonus_to_salary, c='k')\n",
    "        \n",
    "\n",
    "pyplot.xlabel(\"salary\")\n",
    "pyplot.ylabel(\"ratio bonus to salary\")\n",
    "pyplot.show()"
   ]
  },
  {
   "cell_type": "code",
   "execution_count": null,
   "metadata": {
    "collapsed": true
   },
   "outputs": [],
   "source": []
  },
  {
   "cell_type": "markdown",
   "metadata": {},
   "source": [
    "### 3. Algorithm Selection"
   ]
  },
  {
   "cell_type": "markdown",
   "metadata": {},
   "source": [
    "### 4. Algorithm Tuning"
   ]
  },
  {
   "cell_type": "markdown",
   "metadata": {},
   "source": [
    "### 5. Model Validation"
   ]
  },
  {
   "cell_type": "markdown",
   "metadata": {},
   "source": [
    "### 6. Model Evaluation"
   ]
  },
  {
   "cell_type": "code",
   "execution_count": 6,
   "metadata": {
    "collapsed": false
   },
   "outputs": [
    {
     "name": "stdout",
     "output_type": "stream",
     "text": [
      "146\n",
      "salary 339288\n",
      "to_messages 7259\n",
      "deferral_payments NaN\n",
      "total_payments 10425757\n",
      "exercised_stock_options 4158995\n",
      "bonus 8000000\n",
      "restricted_stock 1008149\n",
      "shared_receipt_with_poi 3962\n",
      "restricted_stock_deferred NaN\n",
      "total_stock_value 5167144\n",
      "expenses 49537\n",
      "loan_advances NaN\n",
      "from_messages 2585\n",
      "other 1552\n",
      "from_this_person_to_poi 411\n",
      "poi False\n",
      "director_fees NaN\n",
      "deferred_income NaN\n",
      "long_term_incentive 2035380\n",
      "email_address john.lavorato@enron.com\n",
      "from_poi_to_this_person 528\n"
     ]
    },
    {
     "data": {
      "image/png": "[encoded data removed]",
      "text/plain": [
       "<matplotlib.figure.Figure at 0x103a95590>"
      ]
     },
     "metadata": {},
     "output_type": "display_data"
    },
    {
     "name": "stdout",
     "output_type": "stream",
     "text": [
      "142\n",
      "144\n"
     ]
    }
   ],
   "source": [
    "#!/usr/bin/python\n",
    "\n",
    "import sys\n",
    "import pickle\n",
    "sys.path.append(\"../tools/\")\n",
    "\n",
    "from feature_format import featureFormat, targetFeatureSplit\n",
    "from tester import dump_classifier_and_data\n",
    "from matplotlib import pyplot\n",
    "\n",
    "### Task 1: Select what features you'll use.\n",
    "### features_list is a list of strings, each of which is a feature name.\n",
    "### The first feature must be \"poi\".\n",
    "features_list = ['poi','salary', 'bonus',\n",
    "                 'total_payments', 'total_stock_value',\n",
    "                 'to_messages', 'from_this_person_to_poi',\n",
    "                 'from_messages', 'from_poi_to_this_person',\n",
    "                 'shared_receipt_with_poi']\n",
    "\n",
    "### Load the dictionary containing the dataset\n",
    "with open(\"final_project_dataset.pkl\", \"r\") as data_file:\n",
    "    data_dict = pickle.load(data_file)\n",
    "\n",
    "print len(data_dict)\n",
    "### Task 2: Remove outliers\n",
    "\n",
    "for s in data_dict['LAVORATO JOHN J']:\n",
    "    print s, data_dict['LAVORATO JOHN J'][s]\n",
    "### Task 3: Create new feature(s)\n",
    "### Store to my_dataset for easy export below.\n",
    "my_dataset = data_dict\n",
    "\n",
    "if 'TOTAL' in my_dataset:\n",
    "    del my_dataset['TOTAL']\n",
    "if 'LAY KENNETH L' in my_dataset:\n",
    "    del my_dataset['LAY KENNETH L']\n",
    "\n",
    "\n",
    "person_list = []\n",
    "for s in my_dataset:\n",
    "    person_list.append(s)\n",
    "person_list.sort()\n",
    "### Extract features and labels from dataset for local testing\n",
    "\n",
    "data = featureFormat(my_dataset, features_list, sort_keys = True)\n",
    "labels, features = targetFeatureSplit(data)\n",
    "\n",
    "%matplotlib inline\n",
    "for point in data:\n",
    "    total_payments = point[3]\n",
    "    total_stock = point[4]\n",
    "    pyplot.scatter( total_payments, total_stock )\n",
    "pyplot.xlabel(\"total_payments\")\n",
    "pyplot.ylabel(\"total_stock\")\n",
    "pyplot.show()\n",
    "\n",
    "print len(data)\n",
    "print len(person_list)\n",
    "\n",
    "\n",
    "### Task 4: Try a varity of classifiers\n",
    "### Please name your classifier clf for easy export below.\n",
    "### Note that if you want to do PCA or other multi-stage operations,\n",
    "### you'll need to use Pipelines. For more info:\n",
    "### http://scikit-learn.org/stable/modules/pipeline.html\n",
    "\n",
    "# Provided to give you a starting point. Try a variety of classifiers.\n",
    "from sklearn.naive_bayes import GaussianNB\n",
    "clf = GaussianNB()\n",
    "\n",
    "### Task 5: Tune your classifier to achieve better than .3 precision and recall \n",
    "### using our testing script. Check the tester.py script in the final project\n",
    "### folder for details on the evaluation method, especially the test_classifier\n",
    "### function. Because of the small size of the dataset, the script uses\n",
    "### stratified shuffle split cross validation. For more info: \n",
    "### http://scikit-learn.org/stable/modules/generated/sklearn.cross_validation.StratifiedShuffleSplit.html\n",
    "\n",
    "# Example starting point. Try investigating other evaluation techniques!\n",
    "from sklearn.cross_validation import train_test_split\n",
    "features_train, features_test, labels_train, labels_test = \\\n",
    "    train_test_split(features, labels, test_size=0.3, random_state=42)\n",
    "\n",
    "### Task 6: Dump your classifier, dataset, and features_list so anyone can\n",
    "### check your results. You do not need to change anything below, but make sure\n",
    "### that the version of poi_id.py that you submit can be run on its own and\n",
    "### generates the necessary .pkl files for validating your results.\n",
    "\n",
    "dump_classifier_and_data(clf, my_dataset, features_list)"
   ]
  },
  {
   "cell_type": "code",
   "execution_count": null,
   "metadata": {
    "collapsed": true
   },
   "outputs": [],
   "source": []
  },
  {
   "cell_type": "code",
   "execution_count": null,
   "metadata": {
    "collapsed": true
   },
   "outputs": [],
   "source": []
  }
 ],
 "metadata": {
  "kernelspec": {
   "display_name": "Python 2",
   "language": "python",
   "name": "python2"
  },
  "language_info": {
   "codemirror_mode": {
    "name": "ipython",
    "version": 2
   },
   "file_extension": ".py",
   "mimetype": "text/x-python",
   "name": "python",
   "nbconvert_exporter": "python",
   "pygments_lexer": "ipython2",
   "version": "2.7.12"
  }
 },
 "nbformat": 4,
 "nbformat_minor": 0
}
